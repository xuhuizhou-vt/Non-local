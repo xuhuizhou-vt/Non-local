{
 "cells": [
  {
   "cell_type": "markdown",
   "metadata": {},
   "source": [
    "# Non-local, frame-independent data-driven modeling"
   ]
  },
  {
   "cell_type": "markdown",
   "metadata": {},
   "source": [
    "## Transport PDE\n",
    "The transport equation (or convection-diffusion equation) for scalar quantity is given as:\n",
    "$$\n",
    "\\frac{\\partial c}{\\partial t} = - \\mathbf{v}\\cdot\\nabla c +  \\nabla\\cdot(D \\nabla c) + \\mathbf{S}(x) - \\zeta c\n",
    "$$\n",
    "\n",
    "where c represents the scalar quantity (i.e. temperature or chemical concentraion), $\\mathbf{v}$ represents velocity vector, $D$ represents the diffusion coefficient, $\\mathbf{S}$ represents the production source of the quantity c and $\\zeta$ represents the dissipation coefficient. For the consideration of steady problem, term on left hand side becomes zero."
   ]
  },
  {
   "cell_type": "code",
   "execution_count": 1,
   "metadata": {},
   "outputs": [
    {
     "data": {
      "text/html": [
       "        <script type=\"text/javascript\">\n",
       "        window.PlotlyConfig = {MathJaxConfig: 'local'};\n",
       "        if (window.MathJax) {MathJax.Hub.Config({SVG: {font: \"STIX-Web\"}});}\n",
       "        if (typeof require !== 'undefined') {\n",
       "        require.undef(\"plotly\");\n",
       "        requirejs.config({\n",
       "            paths: {\n",
       "                'plotly': ['https://cdn.plot.ly/plotly-latest.min']\n",
       "            }\n",
       "        });\n",
       "        require(['plotly'], function(Plotly) {\n",
       "            window._Plotly = Plotly;\n",
       "        });\n",
       "        }\n",
       "        </script>\n",
       "        "
      ]
     },
     "metadata": {},
     "output_type": "display_data"
    },
    {
     "data": {
      "text/plain": [
       "<torch._C.Generator at 0x12686a750>"
      ]
     },
     "execution_count": 1,
     "metadata": {},
     "output_type": "execute_result"
    }
   ],
   "source": [
    "%matplotlib inline\n",
    "\n",
    "# system modules\n",
    "import os\n",
    "import time\n",
    "from pathlib import Path\n",
    "from IPython.display import display, Math\n",
    "\n",
    "# scientific computing\n",
    "import numpy as np\n",
    "from numpy import linalg as LA\n",
    "import pandas as pd\n",
    "np.random.seed(42)\n",
    "from fipy import CellVariable, FaceVariable, Grid2D\n",
    "from fipy import DiffusionTerm, ExponentialConvectionTerm, DefaultAsymmetricSolver, ImplicitSourceTerm\n",
    "from fipy import MatplotlibStreamViewer\n",
    "from fipy.tools.numerix import array, reshape\n",
    "\n",
    "# plotting\n",
    "import matplotlib\n",
    "import matplotlib.cm as cm\n",
    "import matplotlib.pyplot as plt\n",
    "from plotly.offline import iplot, init_notebook_mode\n",
    "import plotly.graph_objs as go\n",
    "import plotly.io as pio\n",
    "from plotly import subplots\n",
    "init_notebook_mode(connected=True)\n",
    "\n",
    "# pytorch importing\n",
    "import torch\n",
    "import torch.nn as nn\n",
    "from torchvision import datasets\n",
    "from torch.optim import lr_scheduler, Adam\n",
    "from torch.utils.data import TensorDataset, DataLoader\n",
    "from torch.utils.data.sampler import SubsetRandomSampler\n",
    "torch.manual_seed(42)"
   ]
  },
  {
   "cell_type": "markdown",
   "metadata": {},
   "source": [
    "### Gaussian Process"
   ]
  },
  {
   "cell_type": "code",
   "execution_count": 2,
   "metadata": {},
   "outputs": [],
   "source": [
    "def GP_source(mesh_src):\n",
    "    \n",
    "    # hyperparameters\n",
    "    sigma = 1; l1 = 0.02; l2 = 0.02\n",
    "    \n",
    "    # source mesh points\n",
    "    src_xy = mesh_src.cellCenters.value\n",
    "    \n",
    "    # rbf_kernel (create a specified covariance matrix)\n",
    "    '''\n",
    "            rbf_kernel:  sigma**2 exp(-(|x_i - x_j|)**2 / (2*l**2))\n",
    "    '''\n",
    "    cov = np.zeros([Nx*Ny,Nx*Ny])\n",
    "    for j in range(Nx*Ny):\n",
    "        for i in range(Nx*Ny):\n",
    "            cov[i,j] = sigma**2 * np.exp(-((src_xy[0,i]-src_xy[0,j])**2 / (2*l1**2) + (src_xy[1,i]-src_xy[1,j])**2 / (2*l2**2)))\n",
    "\n",
    "    # Make sure covariance matrix is symmetric\n",
    "    a = np.allclose(cov, cov.T, rtol=1e-05, atol=1e-08)\n",
    "    \n",
    "    cov = cov + 1e-10*np.eye(np.shape(cov)[0])\n",
    "    # Make sure your matrix is positve definite\n",
    "    b = np.any(np.linalg.eigvalsh(cov) < 0.)\n",
    "    \n",
    "    if a==False:\n",
    "        print('ERROR: Covariance matrix is not symmetric as required')\n",
    "    elif b==True:\n",
    "        print('ERROR: Covariance matrix is not positive definite as required')\n",
    "        print('eigenvalues: ', np.linalg.eigvalsh(cov))\n",
    "\n",
    "    # Decompose covariance matrix (Cholesky Decomposition)\n",
    "    L = np.linalg.cholesky(cov)\n",
    "    Lt = L.T\n",
    "    L_Lt = np.dot(L,Lt)\n",
    "\n",
    "    a = np.allclose(cov, L_Lt, rtol=1e-05, atol=1e-08)\n",
    "#     if a==True:\n",
    "#         print('Successfully decomposed!')\n",
    "#     else:\n",
    "#         print('ERROR: L_Lt != cov')\n",
    "    \n",
    "    # generate uncorrelated standard normal\n",
    "    u = np.random.normal(size=(Nx*Ny,1))\n",
    "\n",
    "    # generate samples，do scaling and reshape\n",
    "    samples = np.dot(L,u)\n",
    "    samples_true = (5/(samples.max()-samples.min()))*(samples-samples.min())+0\n",
    "    samples_source = samples_true.reshape(Ny,Nx)\n",
    "    \n",
    "    return samples_source"
   ]
  },
  {
   "cell_type": "markdown",
   "metadata": {},
   "source": [
    "### Source Function"
   ]
  },
  {
   "cell_type": "code",
   "execution_count": 3,
   "metadata": {},
   "outputs": [],
   "source": [
    "def sample_src(mesh):\n",
    "    src = CellVariable(name='Source', mesh=mesh)   \n",
    "    c_xy = mesh.cellCenters.value\n",
    "    \n",
    "    # reshape src\n",
    "    src_matrix = src.value.reshape(ny,nx)\n",
    "    src_matrix[int((ny-Ny)/2):int((ny+Ny)/2),int((nx-Nx)/2):int((nx+Nx)/2)] = GP_source(mesh_src)\n",
    "    src.value = src_matrix.flatten()\n",
    "    \n",
    "    return src"
   ]
  },
  {
   "cell_type": "markdown",
   "metadata": {},
   "source": [
    "### Velocity Function\n",
    "At any given point, velocity is given as:\n",
    "$$ u = C_u cos\\alpha $$\n",
    "$$ v = C_u sin\\alpha $$\n",
    "where \n",
    "\n",
    "$C_u$ is the strength of uniform flow,\n",
    "\n",
    "$\\alpha$ is the angle of uniform flow,"
   ]
  },
  {
   "cell_type": "code",
   "execution_count": 4,
   "metadata": {},
   "outputs": [],
   "source": [
    "def sample_vel(mesh, C_u, alpha):\n",
    "    vel = mesh.cellCenters.copy()\n",
    "    vel.name = 'Velocity'\n",
    "    vel.value[0] = C_u * np.cos(alpha)\n",
    "    vel.value[1] = C_u * np.sin(alpha)\n",
    "    return vel"
   ]
  },
  {
   "cell_type": "markdown",
   "metadata": {},
   "source": [
    "### Data Generation Function"
   ]
  },
  {
   "cell_type": "code",
   "execution_count": 5,
   "metadata": {},
   "outputs": [],
   "source": [
    "def sample_data(mesh, C_uniform, alpha, diff_coeff, diss_coeff):\n",
    "    data_list = []\n",
    "    array_list = []\n",
    "    var = CellVariable(name='Variable',mesh=mesh)\n",
    "    src = sample_src(mesh)\n",
    "    var.constrain(0, mesh.facesLeft)\n",
    "    var.constrain(0, mesh.facesRight)\n",
    "    var.constrain(0, mesh.facesTop)\n",
    "    var.constrain(0, mesh.facesBottom)\n",
    "    vel = sample_vel(mesh, C_uniform, alpha)\n",
    "    eq = - ExponentialConvectionTerm(coeff=vel) + DiffusionTerm(coeff=diff_coeff) - ImplicitSourceTerm(diss_coeff) + src\n",
    "    eq.solve(var=var, solver=DefaultAsymmetricSolver(tolerance=1.e-12, iterations=10000))\n",
    "    data = {'var': var, 'src': src, 'vel': vel, 'diff': diff_coeff, 'diss': diss_coeff}\n",
    "    return data"
   ]
  },
  {
   "cell_type": "markdown",
   "metadata": {},
   "source": [
    "### Neural Network Model"
   ]
  },
  {
   "cell_type": "code",
   "execution_count": 6,
   "metadata": {},
   "outputs": [],
   "source": [
    "class CNN_Network(nn.Module):\n",
    "    def __init__(self, dimensions, num_layers):\n",
    "        super(CNN_Network, self).__init__()\n",
    "        \n",
    "        self.dimensions = dimensions\n",
    "        self.layers = nn.ModuleList()\n",
    "        self.relu = nn.ReLU()\n",
    "        \n",
    "        self.conv1 = nn.Conv2d(in_channels=3, out_channels=36, kernel_size=3, stride=1)\n",
    "#         nn.init.xavier_normal_(self.conv1.weight)\n",
    "#         self.conv2 = nn.Conv2d(in_channels=36, out_channels=36, kernel_size=3, stride=1)\n",
    "#         nn.init.xavier_normal_(self.conv2.weight)\n",
    "        self.conv3 = nn.Conv2d(in_channels=36, out_channels=24, kernel_size=3, stride=1)\n",
    "#         nn.init.xavier_normal_(self.conv3.weight)\n",
    "        self.conv4 = nn.Conv2d(in_channels=24, out_channels=12, kernel_size=3, stride=1)\n",
    "#         self.conv5 = nn.Conv2d(in_channels=12, out_channels=12, kernel_size=3, stride=1)\n",
    "        self.conv6 = nn.Conv2d(in_channels=12, out_channels=4, kernel_size=3, stride=1)\n",
    "#         nn.init.xavier_normal_(self.conv4.weight)\n",
    "        \n",
    "        for k in range(num_layers):\n",
    "            self.layers.append(nn.Linear(self.dimensions[k], self.dimensions[k+1]))\n",
    "#             nn.init.xavier_normal_(self.layers[k].weight)\n",
    "        self.layers.append(nn.Linear(self.dimensions[num_layers], self.dimensions[-1]))\n",
    "#         nn.init.xavier_normal_(self.layers[num_layers].weight)\n",
    "        \n",
    "    def forward(self, X):\n",
    "        out = self.relu(self.conv1(X))\n",
    "#         out = self.relu(self.conv2(out))\n",
    "        out = self.relu(self.conv3(out))\n",
    "        out = self.relu(self.conv4(out))\n",
    "#         out = self.relu(self.conv5(out))\n",
    "        out = self.conv6(out)\n",
    "        out = out.view(-1, 4*3*3)\n",
    "        for i in range(len(self.layers)-1):\n",
    "            out = self.layers[i](out)\n",
    "            out = self.relu(out)\n",
    "        out = self.layers[-1](out)\n",
    "        return out"
   ]
  },
  {
   "cell_type": "markdown",
   "metadata": {},
   "source": [
    "### Training Function"
   ]
  },
  {
   "cell_type": "code",
   "execution_count": 7,
   "metadata": {},
   "outputs": [],
   "source": [
    "def train(train_loader, valid_loader, num_epoch):\n",
    "    train_err_hist = torch.cuda.FloatTensor(1,1).fill_(0)\n",
    "    valid_err_hist = torch.cuda.FloatTensor(1,1).fill_(0)\n",
    "    train_loss_hist = torch.cuda.FloatTensor(1,1).fill_(0)\n",
    "    valid_loss_hist = torch.cuda.FloatTensor(1,1).fill_(0)\n",
    "\n",
    "    for epoch in range(num_epoch+1):\n",
    "        train_loss_array = torch.cuda.FloatTensor(1,1).fill_(0)\n",
    "        train_err_rate_num = torch.cuda.FloatTensor(1,1).fill_(0)\n",
    "        train_err_rate_den = torch.cuda.FloatTensor(1,1).fill_(0)\n",
    "        valid_loss_array = torch.cuda.FloatTensor(1,1).fill_(0)\n",
    "        valid_err_rate_num = torch.cuda.FloatTensor(1,1).fill_(0)\n",
    "        valid_err_rate_den = torch.cuda.FloatTensor(1,1).fill_(0)\n",
    "\n",
    "        for i, data in enumerate(train_loader):\n",
    "            features, target = data\n",
    "            optimizer.zero_grad()\n",
    "            forward = model(features)\n",
    "            loss = loss_fn(forward, target)\n",
    "            loss.backward()\n",
    "            optimizer.step()\n",
    "\n",
    "            train_loss_array = torch.cat((train_loss_array, torch.cuda.FloatTensor([[loss.item()]])))\n",
    "            train_err_num, train_err_den = report_err_rate(target, forward)\n",
    "            train_err_rate_num = torch.cat((train_err_rate_num, (train_err_num.view(1,-1))**2), 0)\n",
    "            train_err_rate_den = torch.cat((train_err_rate_den, (train_err_den.view(1,-1))**2), 0)\n",
    "\n",
    "        train_loss = torch.mean(train_loss_array)\n",
    "        train_err_rate = 100*((torch.sum(train_err_rate_num, 0))**0.5)/((torch.sum(train_err_rate_den, 0))**0.5)\n",
    "\n",
    "        exp_lr_scheduler.step()\n",
    "\n",
    "        with torch.no_grad():\n",
    "            for i, data_valid in enumerate(valid_loader):\n",
    "                features_valid, target_valid = data_valid\n",
    "                forward_valid = model(features_valid)\n",
    "                pred_loss = loss_fn(forward_valid, target_valid)\n",
    "\n",
    "                valid_loss_array = torch.cat((valid_loss_array, torch.cuda.FloatTensor([[loss.item()]])))\n",
    "                valid_err_num, valid_err_den = report_err_rate(target_valid, forward_valid)\n",
    "                valid_err_rate_num = torch.cat((valid_err_rate_num, (valid_err_num.view(1,-1))**2), 0)\n",
    "                valid_err_rate_den = torch.cat((valid_err_rate_den, (valid_err_den.view(1,-1))**2), 0)\n",
    "\n",
    "            valid_loss = torch.mean(valid_loss_array)\n",
    "            valid_err_rate = 100*((torch.sum(valid_err_rate_num, 0))**0.5)/((torch.sum(valid_err_rate_den, 0))**0.5)\n",
    "\n",
    "        verb = True if (epoch >= 50) and (epoch % 10 == 0) else False\n",
    "        if (verb):\n",
    "            train_loss_hist = torch.cat((train_loss_hist, torch.cuda.FloatTensor([[train_loss]])))\n",
    "            train_err_hist = torch.cat((train_err_hist, train_err_rate.view(1,-1)), 0)\n",
    "            valid_loss_hist = torch.cat((valid_loss_hist, torch.cuda.FloatTensor([[valid_loss]])))\n",
    "            valid_err_hist = torch.cat((valid_err_hist, valid_err_rate.view(1,-1)), 0)\n",
    "        verb = True if (epoch % 50 == 0) else False\n",
    "        if (verb) :\n",
    "            print('{:4}   lr: {:.2e}   train_loss: {:.2e}   valid_loss: {:.2e}   train_error:{:7.2f}%   valid_error:{:7.2f}%' \\\n",
    "                  .format(epoch, exp_lr_scheduler.get_lr()[0], train_loss, valid_loss, train_err_rate[0], valid_err_rate[0]))\n",
    "\n",
    "    print('Finished Training')\n",
    "    return train_loss_hist, train_err_hist, valid_loss_hist, valid_err_hist"
   ]
  },
  {
   "cell_type": "code",
   "execution_count": 8,
   "metadata": {},
   "outputs": [],
   "source": [
    "def report_err_rate(target, forward):\n",
    "    errRate_sigma_num = torch.norm(forward - target, dim = 0)\n",
    "    errRate_sigma_den = torch.norm(target, dim = 0)\n",
    "    return errRate_sigma_num, errRate_sigma_den"
   ]
  },
  {
   "cell_type": "markdown",
   "metadata": {},
   "source": [
    "### Plotting Functions"
   ]
  },
  {
   "cell_type": "code",
   "execution_count": 9,
   "metadata": {},
   "outputs": [],
   "source": [
    "def error_plot(training_loss_history, training_error_history, valid_loss_history, valid_error_history):\n",
    "    \n",
    "    data1 = go.Scatter(x=np.arange(50,num_epoch+1,10), y=training_loss_history[1:,0], line = dict(width=1.7), name = 'Training Loss', mode = 'lines')\n",
    "    data2 = go.Scatter(x=np.arange(50,num_epoch+1,10), y=valid_loss_history[1:,0], line = dict(width=1.7), name = 'Validation Loss', mode = 'lines')\n",
    "    data3 = go.Scatter(x=np.arange(50,num_epoch+1,10), y=training_error_history[1:,0], line = dict(width=1.7), name = 'Training Error', mode = 'lines')\n",
    "    data4 = go.Scatter(x=np.arange(50,num_epoch+1,10), y=valid_error_history[1:,0], line = dict(width=1.7), name = 'Validation Error', mode = 'lines')\n",
    "    \n",
    "    fig = subplots.make_subplots(rows=1, cols=2)\n",
    "    fig.append_trace(data1, 1, 1)\n",
    "    fig.append_trace(data2, 1, 1)\n",
    "    fig.append_trace(data3, 1, 2)\n",
    "    fig.append_trace(data4, 1, 2)\n",
    "    \n",
    "    fig['layout']['xaxis1'].update(title='Epochs', showgrid=True, gridwidth=0.5, gridcolor='lightgrey', showline=True, linecolor='black')\n",
    "    fig['layout']['yaxis1'].update(title='Loss', showgrid=True, gridwidth=0.5, gridcolor='lightgrey', showline=True, linecolor='black')\n",
    "    fig['layout']['xaxis2'].update(title='Epochs', showgrid=True, gridwidth=0.5, gridcolor='lightgrey', showline=True, linecolor='black')\n",
    "    fig['layout']['yaxis2'].update(title='Error %', showgrid=True, gridwidth=0.5, gridcolor='lightgrey', showline=True, linecolor='black')\n",
    "    fig['layout'].update(height=450, width=1000, plot_bgcolor = 'rgba(0,0,0,0)', title='Loss and Error Percentage History')\n",
    "    iplot(fig)"
   ]
  },
  {
   "cell_type": "code",
   "execution_count": 10,
   "metadata": {},
   "outputs": [],
   "source": [
    "def plot_valid(nn_target,nn_output, title):\n",
    "\n",
    "    data1 = go.Scatter(x=nn_target[:,0].numpy(), y=nn_output[:,0].numpy(), mode='markers', \n",
    "                       marker=dict(color='rgb(158, 22, 25)', size=7, opacity=0.3,\n",
    "                                     line=dict(width=1)), showlegend=True , name='NN')\n",
    "    \n",
    "    line_min = np.array([nn_target[:,0].numpy().min(), nn_output[:,0].numpy().min()]).min()\n",
    "    line_max = np.array([nn_target[:,0].numpy().max(), nn_output[:,0].numpy().max()]).max()\n",
    "    data2 = go.Scatter(x=np.linspace(line_min,line_max,10), y=np.linspace(line_min,line_max, 10), mode='lines', \n",
    "                       line=dict(width=1.7, color='black'), showlegend=False)\n",
    "\n",
    "    layout = go.Layout(title=title, \n",
    "                       xaxis=dict(title='Truth', range=[line_min, line_max], showgrid=False, showline=True, linecolor='black', zeroline=False, mirror='ticks'),\n",
    "                       yaxis=dict(title='Prediction', range=[line_min, line_max], showgrid=False, showline=True, linecolor='black', zeroline=False, mirror='ticks'),\n",
    "                       width=600, height=570, plot_bgcolor = 'rgba(0,0,0,0)')\n",
    "    \n",
    "    fig = go.Figure(data=[data1,data2], layout=layout)\n",
    "    iplot(fig)"
   ]
  },
  {
   "cell_type": "code",
   "execution_count": 11,
   "metadata": {},
   "outputs": [],
   "source": [
    "def view_cell(var, x_box, y_box):\n",
    "    fig, axes = plt.subplots(1, 1, figsize=(15, 5))\n",
    "    axes.set_title('{}'.format(var.name))\n",
    "    axes.set_xlabel('x')\n",
    "    axes.set_ylabel('y')\n",
    "    cmap = matplotlib.cm.jet\n",
    "    xmin, ymin = var.mesh.extents['min']\n",
    "    xmax, ymax = var.mesh.extents['max']\n",
    "    data = reshape(array(var), var.mesh.shape[::-1])[::-1]\n",
    "    img = axes.imshow(data, extent=(xmin, xmax, ymin, ymax), cmap=cmap)\n",
    "    axes.plot(x_box,y_box,color='white',linewidth=2)\n",
    "    plt.colorbar(img)"
   ]
  },
  {
   "cell_type": "markdown",
   "metadata": {},
   "source": [
    "### Domain Specification"
   ]
  },
  {
   "cell_type": "code",
   "execution_count": 12,
   "metadata": {},
   "outputs": [],
   "source": [
    "if torch.cuda.is_available():\n",
    "    device=torch.device('cuda:0')\n",
    "else:\n",
    "    device=torch.device('cpu')\n",
    "\n",
    "device_cpu = torch.device('cpu')"
   ]
  },
  {
   "cell_type": "code",
   "execution_count": 13,
   "metadata": {},
   "outputs": [],
   "source": [
    "Lx = 5\n",
    "Ly = 3\n",
    "nx = Lx*100\n",
    "ny = Ly*100\n",
    "mesh = Grid2D(dx=Lx/nx, dy=Ly/ny, nx=nx, ny=ny)\n",
    "dx=Lx/nx;dy=Ly/ny\n",
    "\n",
    "# Inner source field \n",
    "Nx = 60; Ny = 36\n",
    "mesh_src = Grid2D(dx, dy, nx=Nx, ny=Ny)\n",
    "\n",
    "# point 1,2,3,4 represent the left_up, right_up, right_down, left_down points of the source\n",
    "x1 = Lx/2 - dx * (Nx/2 - 0.5); y1 = Ly/2 + dy * (Ny/2 - 0.5)\n",
    "x2 = Lx/2 + dx * (Nx/2 - 0.5); y4 = Ly/2 - dy * (Ny/2 - 0.5)\n",
    "x4 = x1; x3 = x2; y2 = y1; y3 = y4"
   ]
  },
  {
   "cell_type": "code",
   "execution_count": 14,
   "metadata": {},
   "outputs": [],
   "source": [
    "epsilon=2e-1\n",
    "n=4\n",
    "cells=np.array([[-5,-4,-3,-2,-1,0,1,2,3,4,5]])\n",
    "cells_x=np.repeat(cells,cells.shape[1],axis=0)\n",
    "cells_y=np.repeat(cells.T,cells.shape[1],axis=1)"
   ]
  },
  {
   "cell_type": "code",
   "execution_count": 15,
   "metadata": {},
   "outputs": [],
   "source": [
    "num_layers = 7   #number of hidden layers\n",
    "dimensions = [36, 96*2, 96*2, 96*2, 96*2, 96*2, 96*2, 96*2, 96*2, 96*2, 96*2, 1] #neurons in each layer"
   ]
  },
  {
   "cell_type": "markdown",
   "metadata": {},
   "source": [
    "## Case 3a: Training and Validation data from different flow cases"
   ]
  },
  {
   "cell_type": "markdown",
   "metadata": {},
   "source": [
    "### Data Generation - Validation"
   ]
  },
  {
   "cell_type": "code",
   "execution_count": 16,
   "metadata": {
    "scrolled": false
   },
   "outputs": [
    {
     "name": "stdout",
     "output_type": "stream",
     "text": [
      "diff     diss     U           h_1     h_2    w_1_2\n",
      "0.044   14.754   1.598        0.211   0.036    0.088\n"
     ]
    },
    {
     "data": {
      "image/png": "[encoded data removed]",
      "text/plain": [
       "<Figure size 1080x360 with 2 Axes>"
      ]
     },
     "metadata": {
      "needs_background": "light"
     },
     "output_type": "display_data"
    },
    {
     "data": {
      "image/png": "[encoded data removed]",
      "text/plain": [
       "<Figure size 1080x360 with 2 Axes>"
      ]
     },
     "metadata": {
      "needs_background": "light"
     },
     "output_type": "display_data"
    }
   ],
   "source": [
    "num_samples_valid=1\n",
    "print('diff     diss     U           h_1     h_2    w_1_2')\n",
    "\n",
    "for sample in range(num_samples_valid):\n",
    "    # PDE coefficients\n",
    "    diff_coeff = np.random.uniform(low=0.01, high=0.1)     # Diffusion Coefficient\n",
    "    diss_coeff = np.random.uniform(low=10, high=15)     # Dissipation Coefficient\n",
    "    \n",
    "    # flow parameters\n",
    "    C_uniform = np.random.uniform(low=0.5, high=2)     # Uniform Flow Strength\n",
    "    alpha = np.random.uniform(low=-10*np.pi/180, high=10*np.pi/180)     # Uniform Flow Angle\n",
    "    \n",
    "    data_3_valid = sample_data(mesh, C_uniform, alpha, diff_coeff, diss_coeff)\n",
    "    \n",
    "    lambda1=(C_uniform - (((C_uniform**2)+(4*diff_coeff*diss_coeff))**0.5)) / (2*diff_coeff)\n",
    "    lambda2=(C_uniform + (((C_uniform**2)+(4*diff_coeff*diss_coeff))**0.5)) / (2*diff_coeff)\n",
    "    h_1=np.abs(np.log(epsilon)/lambda1)\n",
    "    h_2=np.abs(np.log(epsilon)/lambda2)\n",
    "    w_1_2 = np.sqrt(diff_coeff/diss_coeff)*np.abs(np.log(epsilon))\n",
    "    \n",
    "    if alpha <= 0:\n",
    "        right_up=np.array([[x2+(h_1+(y2-y3)*np.sin(-alpha))*np.cos(-alpha)+w_1_2*np.sin(-alpha)],[y2-(h_1+(y2-y3)*np.sin(-alpha))*np.sin(-alpha)+w_1_2*np.cos(-alpha)]])\n",
    "        right_down=np.array([[x3+h_1*np.cos(-alpha)-(w_1_2+(x3-x4)*np.sin(-alpha))*np.sin(-alpha)],[y3-h_1*np.sin(-alpha)-(w_1_2+(x3-x4)*np.sin(-alpha))*np.cos(-alpha)]])\n",
    "        left_up=np.array([[x1-h_2*np.cos(-alpha)+((x2-x1)*np.sin(-alpha)+w_1_2)*np.sin(-alpha)],[y1+h_2*np.sin(-alpha)+((x2-x1)*np.sin(-alpha)+w_1_2)*np.cos(-alpha)]])\n",
    "        left_down=np.array([[x4-(h_2+(y1-y4)*np.sin(-alpha))*np.cos(-alpha)-w_1_2*np.sin(-alpha)],[y4+(h_2+(y1-y4)*np.sin(-alpha))*np.sin(-alpha)-w_1_2*np.cos(-alpha)]])\n",
    "    else:\n",
    "        right_up=np.array([[x2+h_1*np.cos(alpha)-(w_1_2+(x2-x1)*np.sin(alpha))*np.sin(alpha)],[y2+h_1*np.sin(alpha)+(w_1_2+(x2-x1)*np.sin(alpha))*np.cos(alpha)]])\n",
    "        right_down=np.array([[x3+(h_1+(y2-y3)*np.sin(alpha))*np.cos(alpha)+w_1_2*np.sin(alpha)],[y3+(h_1+(y2-y3)*np.sin(alpha))*np.sin(alpha)-w_1_2*np.cos(alpha)]])\n",
    "        left_up=np.array([[x1-(h_2+(y1-y4)*np.sin(alpha))*np.cos(alpha)-w_1_2*np.sin(alpha)],[y1-(h_2+(y1-y4)*np.sin(alpha))*np.sin(alpha)+w_1_2*np.cos(alpha)]])\n",
    "        left_down=np.array([[x4-h_2*np.cos(alpha)+(w_1_2+(x3-x4)*np.sin(alpha))*np.sin(alpha)],[y4-h_2*np.sin(alpha)-(w_1_2+(x3-x4)*np.sin(alpha))*np.cos(alpha)]])\n",
    "    \n",
    "    x_box=np.array([right_up[0,0],right_down[0,0],left_down[0,0],left_up[0,0],right_up[0,0]])\n",
    "    y_box=np.array([right_up[1,0],right_down[1,0],left_down[1,0],left_up[1,0],right_up[1,0]])\n",
    "    \n",
    "    print('{:.3f}   {:.3f}   {:.3f}        {:.3f}   {:.3f}    {:.3f}'.format(diff_coeff,diss_coeff,C_uniform,h_1,h_2,w_1_2))\n",
    "    view_cell(data_3_valid['var'], x_box, y_box)\n",
    "    view_cell(data_3_valid['src'], x_box, y_box)\n",
    "    \n",
    "    c_data_valid_mesh_3 = reshape(array(data_3_valid['var']), data_3_valid['var'].mesh.shape[::-1])\n",
    "    s_data_valid_mesh_3 = reshape(array(data_3_valid['src']), data_3_valid['src'].mesh.shape[::-1])\n",
    "    u_data_valid_mesh_3 = reshape(array(data_3_valid['vel'])[0,:], data_3_valid['vel'].mesh.shape[::-1])\n",
    "    v_data_valid_mesh_3 = reshape(array(data_3_valid['vel'])[1,:], data_3_valid['vel'].mesh.shape[::-1])\n",
    "    \n",
    "    x_box=np.around(x_box*100)\n",
    "    y_box=np.around(y_box*100)\n",
    "    x_inc=np.array([np.around(np.linspace(x_box[0],x_box[1],np.abs(y_box[3]-y_box[2])))]) -x_box[0]\n",
    "    y_inc=np.array([np.around(np.linspace(y_box[-2],y_box[-1],np.abs(x_box[-1]-x_box[-2])))]) -y_box[-2]\n",
    "\n",
    "    x_seq=np.array([np.arange(x_box[-2],x_box[-1],1)])\n",
    "    y_seq=np.array([np.arange(y_box[3],y_box[2],-1)])\n",
    "    \n",
    "    x_mat = (np.repeat(x_seq,y_seq.shape[1],axis=0) + np.repeat(x_inc.T,y_inc.shape[1],axis=1)).astype(int)\n",
    "    y_mat = (np.repeat(y_seq.T,x_seq.shape[1],axis=1) + np.repeat(y_inc,x_inc.shape[1],axis=0)).astype(int)\n",
    "    \n",
    "    c_data_box=c_data_valid_mesh_3[y_mat,x_mat]\n",
    "    \n",
    "    dataX_valid_current=np.empty([c_data_box.shape[0]*c_data_box.shape[1], 3, cells.shape[1], cells.shape[1]])\n",
    "    dataY_valid_current=np.empty([c_data_box.shape[0]*c_data_box.shape[1], 1])\n",
    "    \n",
    "    data_ind=0\n",
    "    for i in range(c_data_box.shape[0]):\n",
    "        for j in range(c_data_box.shape[1]):\n",
    "            dataX_valid_current[data_ind,0,:,:]=u_data_valid_mesh_3[(cells_y*n)+y_mat[i,j],(cells_x*n)+x_mat[i,j]]\n",
    "            dataX_valid_current[data_ind,1,:,:]=v_data_valid_mesh_3[(cells_y*n)+y_mat[i,j],(cells_x*n)+x_mat[i,j]]\n",
    "            dataX_valid_current[data_ind,2,:,:]=s_data_valid_mesh_3[(cells_y*n)+y_mat[i,j],(cells_x*n)+x_mat[i,j]]\n",
    "            dataY_valid_current[data_ind,0]=c_data_box[i,j]\n",
    "            data_ind+=1\n",
    "    \n",
    "    dataX_valid_current=torch.tensor(dataX_valid_current).to(dtype=torch.float)\n",
    "    dataY_valid_current=torch.tensor(dataY_valid_current).to(dtype=torch.float)\n",
    "    \n",
    "    if sample<1:\n",
    "        dataX_valid=dataX_valid_current\n",
    "        dataY_valid=dataY_valid_current\n",
    "    else:\n",
    "        dataX_valid=torch.cat((dataX_valid,dataX_valid_current))\n",
    "        dataY_valid=torch.cat((dataY_valid,dataY_valid_current))"
   ]
  },
  {
   "cell_type": "markdown",
   "metadata": {},
   "source": [
    "### Data Generation - Training"
   ]
  },
  {
   "cell_type": "code",
   "execution_count": 17,
   "metadata": {
    "scrolled": true
   },
   "outputs": [
    {
     "name": "stdout",
     "output_type": "stream",
     "text": [
      "0\n",
      "1\n",
      "2\n",
      "3\n",
      "4\n",
      "torch.Size([25288, 3, 11, 11]) torch.Size([25288, 1])\n",
      "torch.Size([4590, 3, 11, 11]) torch.Size([4590, 1])\n"
     ]
    }
   ],
   "source": [
    "num_samples=5\n",
    "for sample in range(num_samples):\n",
    "    # PDE coefficients\n",
    "    diff_coeff = np.random.uniform(low=0.01, high=0.1)     # Diffusion Coefficient\n",
    "    diss_coeff = np.random.uniform(low=10, high=15)     # Dissipation Coefficient\n",
    "    \n",
    "    # flow parameters\n",
    "    C_uniform = np.random.uniform(low=0.5, high=2)     # Uniform Flow Strength\n",
    "    alpha = np.random.uniform(low=-10*np.pi/180, high=10*np.pi/180)     # Uniform Flow Angle\n",
    "\n",
    "    data_3 = sample_data(mesh, C_uniform, alpha, diff_coeff, diss_coeff)\n",
    "    \n",
    "    lambda1=(C_uniform - (((C_uniform**2)+(4*diff_coeff*diss_coeff))**0.5)) / (2*diff_coeff)\n",
    "    lambda2=(C_uniform + (((C_uniform**2)+(4*diff_coeff*diss_coeff))**0.5)) / (2*diff_coeff)\n",
    "    h_1=np.abs(np.log(epsilon)/lambda1)\n",
    "    h_2=np.abs(np.log(epsilon)/lambda2)\n",
    "    w_1_2 = np.sqrt(diff_coeff/diss_coeff)*np.abs(np.log(epsilon))\n",
    "\n",
    "    if alpha <= 0:\n",
    "        right_up=np.array([[x2+(h_1+(y2-y3)*np.sin(-alpha))*np.cos(-alpha)+w_1_2*np.sin(-alpha)],[y2-(h_1+(y2-y3)*np.sin(-alpha))*np.sin(-alpha)+w_1_2*np.cos(-alpha)]])\n",
    "        right_down=np.array([[x3+h_1*np.cos(-alpha)-(w_1_2+(x3-x4)*np.sin(-alpha))*np.sin(-alpha)],[y3-h_1*np.sin(-alpha)-(w_1_2+(x3-x4)*np.sin(-alpha))*np.cos(-alpha)]])\n",
    "        left_up=np.array([[x1-h_2*np.cos(-alpha)+((x2-x1)*np.sin(-alpha)+w_1_2)*np.sin(-alpha)],[y1+h_2*np.sin(-alpha)+((x2-x1)*np.sin(-alpha)+w_1_2)*np.cos(-alpha)]])\n",
    "        left_down=np.array([[x4-(h_2+(y1-y4)*np.sin(-alpha))*np.cos(-alpha)-w_1_2*np.sin(-alpha)],[y4+(h_2+(y1-y4)*np.sin(-alpha))*np.sin(-alpha)-w_1_2*np.cos(-alpha)]])\n",
    "    else:\n",
    "        right_up=np.array([[x2+h_1*np.cos(alpha)-(w_1_2+(x2-x1)*np.sin(alpha))*np.sin(alpha)],[y2+h_1*np.sin(alpha)+(w_1_2+(x2-x1)*np.sin(alpha))*np.cos(alpha)]])\n",
    "        right_down=np.array([[x3+(h_1+(y2-y3)*np.sin(alpha))*np.cos(alpha)+w_1_2*np.sin(alpha)],[y3+(h_1+(y2-y3)*np.sin(alpha))*np.sin(alpha)-w_1_2*np.cos(alpha)]])\n",
    "        left_up=np.array([[x1-(h_2+(y1-y4)*np.sin(alpha))*np.cos(alpha)-w_1_2*np.sin(alpha)],[y1-(h_2+(y1-y4)*np.sin(alpha))*np.sin(alpha)+w_1_2*np.cos(alpha)]])\n",
    "        left_down=np.array([[x4-h_2*np.cos(alpha)+(w_1_2+(x3-x4)*np.sin(alpha))*np.sin(alpha)],[y4-h_2*np.sin(alpha)-(w_1_2+(x3-x4)*np.sin(alpha))*np.cos(alpha)]])\n",
    "    \n",
    "    x_box=np.array([right_up[0,0],right_down[0,0],left_down[0,0],left_up[0,0],right_up[0,0]])\n",
    "    y_box=np.array([right_up[1,0],right_down[1,0],left_down[1,0],left_up[1,0],right_up[1,0]])\n",
    "    \n",
    "    \n",
    "#     view_cell(data_3['var'], x_box, y_box)\n",
    "#     view_cell(data_3['src'], x_box, y_box)\n",
    "    \n",
    "    c_data_mesh_3 = reshape(array(data_3['var']), data_3['var'].mesh.shape[::-1])\n",
    "    s_data_mesh_3 = reshape(array(data_3['src']), data_3['src'].mesh.shape[::-1])\n",
    "    u_data_mesh_3 = reshape(array(data_3['vel'])[0,:], data_3['vel'].mesh.shape[::-1])\n",
    "    v_data_mesh_3 = reshape(array(data_3['vel'])[1,:], data_3['vel'].mesh.shape[::-1])\n",
    "    \n",
    "    x_box=np.around(x_box*100)\n",
    "    y_box=np.around(y_box*100)\n",
    "    x_inc=np.array([np.around(np.linspace(x_box[0],x_box[1],np.abs(y_box[3]-y_box[2])))]) -x_box[0]\n",
    "    y_inc=np.array([np.around(np.linspace(y_box[-2],y_box[-1],np.abs(x_box[-1]-x_box[-2])))]) -y_box[-2]\n",
    "\n",
    "    x_seq=np.array([np.arange(x_box[-2],x_box[-1],1)])\n",
    "    y_seq=np.array([np.arange(y_box[3],y_box[2],-1)])\n",
    "    \n",
    "    x_mat = (np.repeat(x_seq,y_seq.shape[1],axis=0) + np.repeat(x_inc.T,y_inc.shape[1],axis=1)).astype(int)\n",
    "    y_mat = (np.repeat(y_seq.T,x_seq.shape[1],axis=1) + np.repeat(y_inc,x_inc.shape[1],axis=0)).astype(int)\n",
    "    \n",
    "    c_data_box=c_data_mesh_3[y_mat,x_mat]\n",
    "    \n",
    "    dataX_train_current=np.empty([c_data_box.shape[0]*c_data_box.shape[1], 3, cells.shape[1], cells.shape[1]])\n",
    "    dataY_train_current=np.empty([c_data_box.shape[0]*c_data_box.shape[1], 1])\n",
    "    \n",
    "    data_ind=0\n",
    "    for i in range(c_data_box.shape[0]):\n",
    "        for j in range(c_data_box.shape[1]):\n",
    "            dataX_train_current[data_ind,0,:,:]=u_data_mesh_3[(cells_y*n)+y_mat[i,j],(cells_x*n)+x_mat[i,j]]\n",
    "            dataX_train_current[data_ind,1,:,:]=v_data_mesh_3[(cells_y*n)+y_mat[i,j],(cells_x*n)+x_mat[i,j]]\n",
    "            dataX_train_current[data_ind,2,:,:]=s_data_mesh_3[(cells_y*n)+y_mat[i,j],(cells_x*n)+x_mat[i,j]]\n",
    "            dataY_train_current[data_ind,0]=c_data_box[i,j]\n",
    "            data_ind+=1\n",
    "    \n",
    "    dataX_train_current=torch.tensor(dataX_train_current).to(dtype=torch.float)\n",
    "    dataY_train_current=torch.tensor(dataY_train_current).to(dtype=torch.float)\n",
    "    \n",
    "    if sample<1:\n",
    "        dataX_train=dataX_train_current\n",
    "        dataY_train=dataY_train_current\n",
    "    else:\n",
    "        dataX_train=torch.cat((dataX_train,dataX_train_current))\n",
    "        dataY_train=torch.cat((dataY_train,dataY_train_current))\n",
    "        \n",
    "    print(sample)\n",
    "\n",
    "print(dataX_train.shape, dataY_train.shape)\n",
    "print(dataX_valid.shape, dataY_valid.shape)"
   ]
  },
  {
   "cell_type": "code",
   "execution_count": 18,
   "metadata": {},
   "outputs": [
    {
     "name": "stdout",
     "output_type": "stream",
     "text": [
      "Reduced Training Data Size: torch.Size([25288, 3, 11, 11])   torch.Size([25288, 1])\n",
      "Validation Data Size:       torch.Size([4590, 3, 11, 11])   torch.Size([4590, 1])\n"
     ]
    }
   ],
   "source": [
    "reduc_data_size = int(dataX_train.shape[0] * (50/num_samples))\n",
    "ind = list(range(dataX_train.shape[0]))\n",
    "np.random.shuffle(ind)\n",
    "train_ind = ind[:reduc_data_size]\n",
    "dataX_train = dataX_train[train_ind]\n",
    "dataY_train = dataY_train[train_ind]\n",
    "print('Reduced Training Data Size: {}   {}'.format(dataX_train.shape, dataY_train.shape))\n",
    "print('Validation Data Size:       {}   {}'.format(dataX_valid.shape, dataY_valid.shape))"
   ]
  },
  {
   "cell_type": "code",
   "execution_count": 19,
   "metadata": {},
   "outputs": [],
   "source": [
    "dataX_train = dataX_train.to(device)\n",
    "dataY_train = dataY_train.to(device)\n",
    "dataX_valid = dataX_valid.to(device)\n",
    "dataY_valid = dataY_valid.to(device)"
   ]
  },
  {
   "cell_type": "code",
   "execution_count": 20,
   "metadata": {},
   "outputs": [],
   "source": [
    "#creating datasets\n",
    "dataset_train = TensorDataset(dataX_train,dataY_train)\n",
    "dataset_valid = TensorDataset(dataX_valid,dataY_valid)\n",
    "\n",
    "#creating batches from dataset\n",
    "batch_size_train = 10000            #int(dataX_train.shape[0]/20) + 1\n",
    "batch_size_valid = dataX_valid.shape[0]\n",
    "\n",
    "train_loader = DataLoader(dataset = dataset_train, batch_size=batch_size_train, shuffle=True)\n",
    "valid_loader = DataLoader(dataset = dataset_valid, batch_size=batch_size_valid, shuffle=False)"
   ]
  },
  {
   "cell_type": "code",
   "execution_count": 21,
   "metadata": {},
   "outputs": [],
   "source": [
    "np.random.seed(7)\n",
    "model = CNN_Network(dimensions, num_layers)\n",
    "model.to(device)\n",
    "loss_fn = nn.MSELoss(reduction='sum')"
   ]
  },
  {
   "cell_type": "code",
   "execution_count": 22,
   "metadata": {},
   "outputs": [
    {
     "name": "stdout",
     "output_type": "stream",
     "text": [
      "Total Learnable Parameters: 241481\n"
     ]
    }
   ],
   "source": [
    "def count_parameters(model):\n",
    "    return sum(p.numel() for p in model.parameters() if p.requires_grad)\n",
    "para_count = count_parameters(model)\n",
    "print('Total Learnable Parameters: {}'.format(para_count))"
   ]
  },
  {
   "cell_type": "code",
   "execution_count": 23,
   "metadata": {},
   "outputs": [],
   "source": [
    "# training\n",
    "num_epoch = 2000\n",
    "learning_rate = 1e-3\n",
    "optimizer = Adam(model.parameters(), lr=learning_rate)\n",
    "exp_lr_scheduler = lr_scheduler.StepLR(optimizer, step_size=600, gamma=0.7)"
   ]
  },
  {
   "cell_type": "code",
   "execution_count": 24,
   "metadata": {
    "scrolled": false
   },
   "outputs": [
    {
     "ename": "TypeError",
     "evalue": "type torch.cuda.FloatTensor not available. Torch not compiled with CUDA enabled.",
     "output_type": "error",
     "traceback": [
      "\u001b[0;31m---------------------------------------------------------------------------\u001b[0m",
      "\u001b[0;31mTypeError\u001b[0m                                 Traceback (most recent call last)",
      "\u001b[0;32m<ipython-input-24-d9c1ab7a6354>\u001b[0m in \u001b[0;36m<module>\u001b[0;34m\u001b[0m\n\u001b[1;32m      1\u001b[0m \u001b[0mstart_time\u001b[0m \u001b[0;34m=\u001b[0m \u001b[0mtime\u001b[0m\u001b[0;34m.\u001b[0m\u001b[0mtime\u001b[0m\u001b[0;34m(\u001b[0m\u001b[0;34m)\u001b[0m\u001b[0;34m\u001b[0m\u001b[0;34m\u001b[0m\u001b[0m\n\u001b[0;32m----> 2\u001b[0;31m \u001b[0mtraining_loss_history\u001b[0m\u001b[0;34m,\u001b[0m \u001b[0mtraining_error_history\u001b[0m\u001b[0;34m,\u001b[0m \u001b[0mvalid_loss_history\u001b[0m\u001b[0;34m,\u001b[0m \u001b[0mvalid_error_history\u001b[0m \u001b[0;34m=\u001b[0m \u001b[0mtrain\u001b[0m\u001b[0;34m(\u001b[0m\u001b[0mtrain_loader\u001b[0m\u001b[0;34m,\u001b[0m \u001b[0mvalid_loader\u001b[0m\u001b[0;34m,\u001b[0m \u001b[0mnum_epoch\u001b[0m\u001b[0;34m)\u001b[0m\u001b[0;34m\u001b[0m\u001b[0;34m\u001b[0m\u001b[0m\n\u001b[0m\u001b[1;32m      3\u001b[0m \u001b[0melapsed\u001b[0m \u001b[0;34m=\u001b[0m \u001b[0mtime\u001b[0m\u001b[0;34m.\u001b[0m\u001b[0mtime\u001b[0m\u001b[0;34m(\u001b[0m\u001b[0;34m)\u001b[0m \u001b[0;34m-\u001b[0m \u001b[0mstart_time\u001b[0m\u001b[0;34m\u001b[0m\u001b[0;34m\u001b[0m\u001b[0m\n\u001b[1;32m      4\u001b[0m \u001b[0mprint\u001b[0m\u001b[0;34m(\u001b[0m\u001b[0;34m'Training time: %.1f s'\u001b[0m \u001b[0;34m%\u001b[0m \u001b[0;34m(\u001b[0m\u001b[0melapsed\u001b[0m\u001b[0;34m)\u001b[0m\u001b[0;34m)\u001b[0m\u001b[0;34m\u001b[0m\u001b[0;34m\u001b[0m\u001b[0m\n",
      "\u001b[0;32m<ipython-input-7-09f01d6fd496>\u001b[0m in \u001b[0;36mtrain\u001b[0;34m(train_loader, valid_loader, num_epoch)\u001b[0m\n\u001b[1;32m      1\u001b[0m \u001b[0;32mdef\u001b[0m \u001b[0mtrain\u001b[0m\u001b[0;34m(\u001b[0m\u001b[0mtrain_loader\u001b[0m\u001b[0;34m,\u001b[0m \u001b[0mvalid_loader\u001b[0m\u001b[0;34m,\u001b[0m \u001b[0mnum_epoch\u001b[0m\u001b[0;34m)\u001b[0m\u001b[0;34m:\u001b[0m\u001b[0;34m\u001b[0m\u001b[0;34m\u001b[0m\u001b[0m\n\u001b[0;32m----> 2\u001b[0;31m     \u001b[0mtrain_err_hist\u001b[0m \u001b[0;34m=\u001b[0m \u001b[0mtorch\u001b[0m\u001b[0;34m.\u001b[0m\u001b[0mcuda\u001b[0m\u001b[0;34m.\u001b[0m\u001b[0mFloatTensor\u001b[0m\u001b[0;34m(\u001b[0m\u001b[0;36m1\u001b[0m\u001b[0;34m,\u001b[0m\u001b[0;36m1\u001b[0m\u001b[0;34m)\u001b[0m\u001b[0;34m.\u001b[0m\u001b[0mfill_\u001b[0m\u001b[0;34m(\u001b[0m\u001b[0;36m0\u001b[0m\u001b[0;34m)\u001b[0m\u001b[0;34m\u001b[0m\u001b[0;34m\u001b[0m\u001b[0m\n\u001b[0m\u001b[1;32m      3\u001b[0m     \u001b[0mvalid_err_hist\u001b[0m \u001b[0;34m=\u001b[0m \u001b[0mtorch\u001b[0m\u001b[0;34m.\u001b[0m\u001b[0mcuda\u001b[0m\u001b[0;34m.\u001b[0m\u001b[0mFloatTensor\u001b[0m\u001b[0;34m(\u001b[0m\u001b[0;36m1\u001b[0m\u001b[0;34m,\u001b[0m\u001b[0;36m1\u001b[0m\u001b[0;34m)\u001b[0m\u001b[0;34m.\u001b[0m\u001b[0mfill_\u001b[0m\u001b[0;34m(\u001b[0m\u001b[0;36m0\u001b[0m\u001b[0;34m)\u001b[0m\u001b[0;34m\u001b[0m\u001b[0;34m\u001b[0m\u001b[0m\n\u001b[1;32m      4\u001b[0m     \u001b[0mtrain_loss_hist\u001b[0m \u001b[0;34m=\u001b[0m \u001b[0mtorch\u001b[0m\u001b[0;34m.\u001b[0m\u001b[0mcuda\u001b[0m\u001b[0;34m.\u001b[0m\u001b[0mFloatTensor\u001b[0m\u001b[0;34m(\u001b[0m\u001b[0;36m1\u001b[0m\u001b[0;34m,\u001b[0m\u001b[0;36m1\u001b[0m\u001b[0;34m)\u001b[0m\u001b[0;34m.\u001b[0m\u001b[0mfill_\u001b[0m\u001b[0;34m(\u001b[0m\u001b[0;36m0\u001b[0m\u001b[0;34m)\u001b[0m\u001b[0;34m\u001b[0m\u001b[0;34m\u001b[0m\u001b[0m\n\u001b[1;32m      5\u001b[0m     \u001b[0mvalid_loss_hist\u001b[0m \u001b[0;34m=\u001b[0m \u001b[0mtorch\u001b[0m\u001b[0;34m.\u001b[0m\u001b[0mcuda\u001b[0m\u001b[0;34m.\u001b[0m\u001b[0mFloatTensor\u001b[0m\u001b[0;34m(\u001b[0m\u001b[0;36m1\u001b[0m\u001b[0;34m,\u001b[0m\u001b[0;36m1\u001b[0m\u001b[0;34m)\u001b[0m\u001b[0;34m.\u001b[0m\u001b[0mfill_\u001b[0m\u001b[0;34m(\u001b[0m\u001b[0;36m0\u001b[0m\u001b[0;34m)\u001b[0m\u001b[0;34m\u001b[0m\u001b[0;34m\u001b[0m\u001b[0m\n",
      "\u001b[0;31mTypeError\u001b[0m: type torch.cuda.FloatTensor not available. Torch not compiled with CUDA enabled."
     ]
    }
   ],
   "source": [
    "start_time = time.time()\n",
    "training_loss_history, training_error_history, valid_loss_history, valid_error_history = train(train_loader, valid_loader, num_epoch)\n",
    "elapsed = time.time() - start_time                \n",
    "print('Training time: %.1f s' % (elapsed))"
   ]
  },
  {
   "cell_type": "code",
   "execution_count": null,
   "metadata": {},
   "outputs": [],
   "source": [
    "training_loss_history = training_loss_history.to(device_cpu)\n",
    "training_error_history = training_error_history.to(device_cpu)\n",
    "valid_loss_history = valid_loss_history.to(device_cpu)\n",
    "valid_error_history = valid_error_history.to(device_cpu)\n",
    "error_plot(training_loss_history.detach().numpy(), training_error_history.detach().numpy(), valid_loss_history.detach().numpy(), valid_error_history.detach().numpy())"
   ]
  },
  {
   "cell_type": "code",
   "execution_count": null,
   "metadata": {},
   "outputs": [],
   "source": [
    "with torch.no_grad():\n",
    "    for i, nn_data in enumerate(valid_loader):\n",
    "        nn_features, nn_target = nn_data\n",
    "        nn_output = model(nn_features)\n",
    "\n",
    "nn_output = nn_output.to(device_cpu)\n",
    "nn_target = nn_target.to(device_cpu)\n",
    "title = 'Validation'\n",
    "plot_valid(nn_target,nn_output,title)"
   ]
  }
 ],
 "metadata": {
  "kernelspec": {
   "display_name": "Python 3",
   "language": "python",
   "name": "python3"
  },
  "language_info": {
   "codemirror_mode": {
    "name": "ipython",
    "version": 3
   },
   "file_extension": ".py",
   "mimetype": "text/x-python",
   "name": "python",
   "nbconvert_exporter": "python",
   "pygments_lexer": "ipython3",
   "version": "3.7.4"
  }
 },
 "nbformat": 4,
 "nbformat_minor": 2
}
